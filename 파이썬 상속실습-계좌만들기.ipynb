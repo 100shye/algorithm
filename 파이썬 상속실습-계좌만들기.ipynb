{
 "cells": [
  {
   "cell_type": "markdown",
   "id": "aa33a500",
   "metadata": {},
   "source": [
    "### 실습 설명\n",
    "아래 코드에는 자유 입출금 계좌(CheckingAccount)와 저축 계좌(SavingsAccount) 클래스가 정의되어 있습니다. 자유 입출금 계좌와 저축 계좌는 서로 비슷한 점이 많아서 두 클래스에는 중복되는 코드가 많습니다. 이번 챕터에서 배운 상속을 이용해서 중복되는 코드를 줄여 봅시다.\n",
    "\n",
    "중복되는 코드를 바탕으로 두 클래스의 부모 클래스가 될 은행 계좌(BankAccount) 클래스를 정의하세요. <br>\n",
    "자유 입출금 계좌(CheckingAccount) 클래스와 저축 계좌(SavingsAccount) 클래스가 은행 계좌(BankAccount) 클래스를 상속하도록 하세요."
   ]
  },
  {
   "cell_type": "markdown",
   "id": "575f493d",
   "metadata": {},
   "source": [
    "#### 자유 입출금 계좌(CheckingAccount) 클래스"
   ]
  },
  {
   "cell_type": "code",
   "execution_count": null,
   "id": "f31faf03",
   "metadata": {},
   "outputs": [],
   "source": [
    "class CheckingAccount:\n",
    "    \"\"\"자유 입출금 계좌 클래스\"\"\"\n",
    "    def __init__(self, name, balance, max_spending):\n",
    "        \"\"\"모든 인스턴스 변수의 초기값을 설정한다\"\"\"\n",
    "        self.name = name\n",
    "        self.balance = balance\n",
    "        self.max_spending = max_spending\n",
    "\n",
    "    def withdraw(self, amount):\n",
    "        \"\"\"돈을 출금한다\"\"\"\n",
    "        self.balance -= amount\n",
    "\n",
    "    def deposit(self, amount):\n",
    "        \"\"\"돈을 입금한다\"\"\"\n",
    "        self.balance += amount\n",
    "\n",
    "    def use_check_card(self, amount):\n",
    "        \"\"\"한 회 사용 한도 초과 이하인 금액을 체크 카드 결제 시 예치금을 줄인다\"\"\"\n",
    "        if amount <= self.max_spending:\n",
    "            self.balance -= amount\n",
    "        else:\n",
    "            print(\"{}님의 체크 카드는 한 회 {} 초과 사용 불가능합니다\".format(self.name, self.max_spending))\n",
    "\n",
    "    def __str__(self):\n",
    "        \"\"\"자유 입출금 계좌의 정보를 문자열로 리턴한다.\"\"\"\n",
    "        return \"{}님의 계좌 예치금은 {}원입니다\".format(self.name, self.balance)\n"
   ]
  },
  {
   "cell_type": "markdown",
   "id": "a018d70f",
   "metadata": {},
   "source": [
    "#### 저축 계좌(SavingsAccount) 클래스"
   ]
  },
  {
   "cell_type": "code",
   "execution_count": null,
   "id": "d018ca30",
   "metadata": {},
   "outputs": [],
   "source": [
    "class SavingsAccount:\n",
    "    \"\"\"저축 계좌 클래스\"\"\"\n",
    "    def __init__(self, name, balance, interest_rate):\n",
    "        \"\"\"모든 인스턴스 변수의 초기값을 설정한다\"\"\"\n",
    "        self.name = name\n",
    "        self.balance = balance\n",
    "        self.interest_rate = interest_rate\n",
    "\n",
    "    def withdraw(self, amount):\n",
    "        \"\"\"돈을 출금한다\"\"\"\n",
    "        self.balance -= amount\n",
    "\n",
    "    def deposit(self, amount):\n",
    "        \"\"\"돈을 입금한다\"\"\"\n",
    "        self.balance += amount\n",
    "\n",
    "    def add_interest(self):\n",
    "        \"\"\"이자를 더한다\"\"\"\n",
    "        self.balance *= (1+self.interest_rate)\n",
    "\n",
    "    def __str__(self):\n",
    "        \"\"\"저축 계좌의 정보를 문자열로 리턴한다.\"\"\"\n",
    "        return \"{}님의 계좌 예치금은 {}원입니다\".format(self.name, self.balance)\n"
   ]
  },
  {
   "cell_type": "markdown",
   "id": "00741234",
   "metadata": {},
   "source": [
    "#### 두 클래스를 모두 완성하고 템플릿에 있는 코드를 실행했을 때, 아래와 같은 실행 결과가 나오도록 해 주세요.\n",
    "\n",
    "성태호님의 계좌 예치금은 98000원입니다 <br> \n",
    "강영훈님의 계좌 예치금은 21000.0원입니다 <br>\n",
    "[<class '__main__.CheckingAccount'>, <class '__main__.BankAccount'>, <class 'object'>]\n",
    "[<class '__main__.SavingsAccount'>, <class '__main__.BankAccount'>, <class 'object'>]\n"
   ]
  },
  {
   "cell_type": "code",
   "execution_count": 1,
   "id": "1598e845",
   "metadata": {},
   "outputs": [
    {
     "name": "stdout",
     "output_type": "stream",
     "text": [
      "성태호님의 계좌 예치금은 98000원입니다\n",
      "강영훈님의 계좌 예치금은 21000.0원입니다\n",
      "[<class '__main__.CheckingAccount'>, <class '__main__.BankAccount'>, <class 'object'>]\n",
      "[<class '__main__.SavingsAccount'>, <class '__main__.BankAccount'>, <class 'object'>]\n"
     ]
    }
   ],
   "source": [
    "class BankAccount:\n",
    "    def __init__(self, name, balance):\n",
    "        self.name = name\n",
    "        self.balance = balance\n",
    "\n",
    "    def withdraw(self, amount):\n",
    "        \"\"\"돈을 출금한다\"\"\"\n",
    "        self.balance -= amount\n",
    "        \n",
    "    def deposit(self, amount):\n",
    "        \"\"\"돈을 입금한다\"\"\"\n",
    "        self.balance += amount\n",
    "        \n",
    "class CheckingAccount(BankAccount):\n",
    "    def __init__(self, name, balance, max_spending):\n",
    "        \"\"\"모든 인스턴스 변수의 초기값을 설정한다\"\"\"\n",
    "        super().__init__(name, balance)\n",
    "        self.max_spending = max_spending\n",
    "\n",
    "    def use_check_card(self, amount):\n",
    "        \"\"\"한 회 사용 한도 초과 이하인 금액을 체크 카드 결제 시 예치금을 줄인다\"\"\"\n",
    "        if amount <= self.max_spending:\n",
    "            self.balance -= amount\n",
    "        else:\n",
    "            print(\"{}님의 체크 카드는 한 회 {} 초과 사용 불가능합니다\".format(self.name, self.max_spending))\n",
    "\n",
    "    def __str__(self):\n",
    "        \"\"\"자유 입출금 계좌의 정보를 문자열로 리턴한다.\"\"\"\n",
    "        return \"{}님의 계좌 예치금은 {}원입니다\".format(self.name, self.balance)\n",
    "        \n",
    "        \n",
    "class SavingsAccount(BankAccount):\n",
    "    def __init__(self, name, balance, interest_rate):\n",
    "        \"\"\"모든 인스턴스 변수의 초기값을 설정한다\"\"\"\n",
    "        super().__init__(name, balance)\n",
    "        self.interest_rate = interest_rate\n",
    "\n",
    "    def add_interest(self):\n",
    "        \"\"\"이자를 더한다\"\"\"\n",
    "        self.balance *= (1+self.interest_rate)\n",
    "\n",
    "    def __str__(self):\n",
    "        \"\"\"저축 계좌의 정보를 문자열로 리턴한다.\"\"\"\n",
    "        return \"{}님의 계좌 예치금은 {}원입니다\".format(self.name, self.balance)\n",
    "        \n",
    "\n",
    "bank_account_1 = CheckingAccount(\"성태호\", 100000, 10000)\n",
    "bank_account_2 = SavingsAccount(\"강영훈\", 20000, 0.05)\n",
    "\n",
    "bank_account_1.withdraw(1000)\n",
    "bank_account_1.deposit(1000)\n",
    "bank_account_1.use_check_card(2000)\n",
    "\n",
    "bank_account_2.withdraw(1000)\n",
    "bank_account_2.deposit(1000)\n",
    "bank_account_2.add_interest()\n",
    "\n",
    "print(bank_account_1)\n",
    "print(bank_account_2)\n",
    "\n",
    "print(CheckingAccount.mro())\n",
    "print(SavingsAccount.mro())"
   ]
  }
 ],
 "metadata": {
  "kernelspec": {
   "display_name": "Python 3 (ipykernel)",
   "language": "python",
   "name": "python3"
  },
  "language_info": {
   "codemirror_mode": {
    "name": "ipython",
    "version": 3
   },
   "file_extension": ".py",
   "mimetype": "text/x-python",
   "name": "python",
   "nbconvert_exporter": "python",
   "pygments_lexer": "ipython3",
   "version": "3.9.13"
  }
 },
 "nbformat": 4,
 "nbformat_minor": 5
}
